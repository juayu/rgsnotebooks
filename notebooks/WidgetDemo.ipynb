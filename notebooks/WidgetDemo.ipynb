{
 "cells": [
  {
   "cell_type": "markdown",
   "metadata": {},
   "source": [
    "# Simple Button Widget Demo\n",
    "See [the docs](https://ipywidgets.readthedocs.io/en/latest/examples/Widget%20List.html?highlight=click#Button) for more"
   ]
  },
  {
   "cell_type": "code",
   "execution_count": 7,
   "metadata": {},
   "outputs": [
    {
     "data": {
      "application/vnd.jupyter.widget-view+json": {
       "model_id": "bbfd2676a423420ab2828c25ed4711ab",
       "version_major": 2,
       "version_minor": 0
      },
      "text/plain": [
       "Button(button_style='info', description='Launch psql', style=ButtonStyle(), tooltip='Enter interactive SQL cli…"
      ]
     },
     "metadata": {},
     "output_type": "display_data"
    },
    {
     "data": {
      "application/vnd.jupyter.widget-view+json": {
       "model_id": "3a6c6a2e3fdd4bf4a2f83929f6da097d",
       "version_major": 2,
       "version_minor": 0
      },
      "text/plain": [
       "Output()"
      ]
     },
     "metadata": {},
     "output_type": "display_data"
    }
   ],
   "source": [
    "from IPython.display import HTML, display, display_html\n",
    "import ipywidgets as widgets\n",
    "\n",
    "button = widgets.Button(\n",
    "    description='Launch psql',\n",
    "    disabled=False,\n",
    "    button_style='info',\n",
    "    tooltip='Enter interactive SQL client'\n",
    ")\n",
    "output = widgets.Output()\n",
    "\n",
    "# Display the button before registering the event\n",
    "display(button, output)\n",
    "\n",
    "def on_button_clicked(b):\n",
    "    with output:\n",
    "        print(\"Button clicked.\")\n",
    "\n",
    "button.on_click(on_button_clicked)"
   ]
  },
  {
   "cell_type": "markdown",
   "metadata": {},
   "source": [
    "# HTML Button with JupyterLab navigation functions"
   ]
  },
  {
   "cell_type": "code",
   "execution_count": 4,
   "metadata": {},
   "outputs": [
    {
     "data": {
      "text/html": [
       "<button data-commandlinker-command=\"terminal:create-new\" class=\"p-Widget jupyter-widgets jupyter-button widget-button mod-info\" title=\"Enter interactive SQL client\">Launch psql</button>"
      ],
      "text/plain": [
       "<IPython.core.display.HTML object>"
      ]
     },
     "execution_count": 4,
     "metadata": {},
     "output_type": "execute_result"
    }
   ],
   "source": [
    "HTML('<button data-commandlinker-command=\"terminal:create-new\" class=\"p-Widget jupyter-widgets jupyter-button widget-button mod-info\" title=\"Enter interactive SQL client\">Launch psql</button>')"
   ]
  }
 ],
 "metadata": {
  "kernelspec": {
   "display_name": "conda_python3",
   "language": "python",
   "name": "conda_python3"
  },
  "language_info": {
   "codemirror_mode": {
    "name": "ipython",
    "version": 3
   },
   "file_extension": ".py",
   "mimetype": "text/x-python",
   "name": "python",
   "nbconvert_exporter": "python",
   "pygments_lexer": "ipython3",
   "version": "3.6.5"
  }
 },
 "nbformat": 4,
 "nbformat_minor": 4
}

