{
 "cells": [
  {
   "cell_type": "code",
   "execution_count": null,
   "metadata": {
    "collapsed": true
   },
   "outputs": [],
   "source": [
    "\n",
    ")"
   ]
  },
  {
   "cell_type": "markdown",
   "source": [
    "```sql\n",
    "CREATE TABLE IF NOT EXISTS task_status (\n",
    "    task_uuid uuid PRIMARY KEY,\n",
    "    task_name varchar(128),\n",
    "    task_version varchar(12),\n",
    "    task_path varchar(128),\n",
    "    task_concurrency int,\n",
    "    task_status varchar(24),\n",
    "    task_request json,\n",
    "    task_position int,\n",
    "    task_request_time timestamp without time zone,\n",
    "    task_start_time timestamp without time zone,\n",
    "    task_end_time timestamp without time zone\n",
    ");\n",
    "\n",
    "CREATE TABLE IF NOT EXISTS task_load_status (\n",
    "    task_uuid uuid REFERENCES task_status (task_uuid),\n",
    "    table_load_status varchar(24),\n",
    "    table_rows_to_load bigint,\n",
    "    table_rows bigint,\n",
    "    query_id int,\n",
    "    querytext varchar(4096),\n",
    "    schemaname varchar(128),\n",
    "    tablename varchar(128),\n",
    ")\n",
    "```\n",
    "\n"
   ],
   "metadata": {
    "collapsed": false
   }
  }
 ],
 "metadata": {
  "language_info": {
   "codemirror_mode": {
    "name": "ipython",
    "version": 2
   },
   "file_extension": ".py",
   "mimetype": "text/x-python",
   "name": "python",
   "nbconvert_exporter": "python",
   "pygments_lexer": "ipython2",
   "version": "2.7.6"
  },
  "kernelspec": {
   "name": "python3",
   "language": "python",
   "display_name": "Python 3"
  },
  "pycharm": {
   "stem_cell": {
    "cell_type": "raw",
    "source": [],
    "metadata": {
     "collapsed": false
    }
   }
  }
 },
 "nbformat": 4,
 "nbformat_minor": 0
}