{
 "cells": [
  {
   "cell_type": "code",
   "execution_count": null,
   "metadata": {},
   "outputs": [],
   "source": [
    "!/home/ec2-user/SageMaker/rgs/miniconda/envs/rgsutils/bin/pip install ipywidgets bokeh"
   ]
  },
  {
   "cell_type": "code",
   "execution_count": null,
   "metadata": {},
   "outputs": [],
   "source": [
    "import threading\n",
    "from IPython.display import display\n",
    "import ipywidgets as widgets\n",
    "import time\n",
    "from bokeh.io import push_notebook, show, output_notebook\n",
    "from bokeh.plotting import figure\n",
    "import random \n",
    "output_notebook()\n",
    "\n",
    "plot = figure(plot_width=400, plot_height=400)\n",
    "line = plot.line([1, 2, 3, 4, 5], [6, 7, 2, 4, 5], line_width=2)\n",
    "handle = show(plot, notebook_handle=True)"
   ]
  },
  {
   "cell_type": "code",
   "execution_count": null,
   "metadata": {
    "collapsed": false,
    "jupyter": {
     "outputs_hidden": false
    },
    "pycharm": {
     "name": "#%%\n"
    }
   },
   "outputs": [],
   "source": [
    "def work(l):\n",
    "    total = 100\n",
    "    x = l.data_source.data['x']\n",
    "    y = l.data_source.data['y']\n",
    "    for i in range(total):\n",
    "        time.sleep(0.2)\n",
    "        x.append(6+i)   \n",
    "        y.append(random.randint(1,10))\n",
    "        plot.line(x, y, line_width=2)\n",
    "        push_notebook(handle=handle)\n",
    "\n",
    "thread = threading.Thread(target=work, args=(line,))\n",
    "thread.start()"
   ]
  }
 ],
 "metadata": {
  "kernelspec": {
   "display_name": "conda_rgsutils",
   "language": "python",
   "name": "conda_rgsutils"
  },
  "language_info": {
   "codemirror_mode": {
    "name": "ipython",
    "version": 3
   },
   "file_extension": ".py",
   "mimetype": "text/x-python",
   "name": "python",
   "nbconvert_exporter": "python",
   "pygments_lexer": "ipython3",
   "version": "3.7.3"
  },
  "pycharm": {
   "stem_cell": {
    "cell_type": "raw",
    "metadata": {
     "collapsed": false
    },
    "source": []
   }
  }
 },
 "nbformat": 4,
 "nbformat_minor": 4
}

